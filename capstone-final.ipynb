{
 "cells": [
  {
   "cell_type": "markdown",
   "id": "afe00351",
   "metadata": {},
   "source": [
    "# Capstone Project || Spam detection model"
   ]
  },
  {
   "cell_type": "markdown",
   "id": "3e34cdfc",
   "metadata": {},
   "source": [
    "In this model we used XGBoost libraries to make it easier, simpler, and way more efficient. \n",
    "I will explain every step."
   ]
  },
  {
   "cell_type": "markdown",
   "id": "cff3d3e1",
   "metadata": {},
   "source": [
    "## Objectives: "
   ]
  },
  {
   "cell_type": "markdown",
   "id": "22e6003f",
   "metadata": {},
   "source": [
    "- Breaking down the steps that make this capstoe possible\n",
    "- Observing the performance of this model\n",
    "- Train the network to be able to assign an emailas spam or not\n",
    "- Discovering XGBoost"
   ]
  },
  {
   "cell_type": "markdown",
   "id": "f46b823b",
   "metadata": {},
   "source": [
    "## Dataset:"
   ]
  },
  {
   "cell_type": "markdown",
   "id": "15494ad4",
   "metadata": {},
   "source": [
    "- At first, the datasets were a little complicated to find, as some datasets contained files that could not be read. Then i found another dataset that was basically a bunch of txt files, and it wasn't comfortable working on these files. \n",
    "- So lt last this was the [dataset](https://www.kaggle.com/nitishabharathi/email-spam-dataset?select=enronSpamSubset.csv) that i relied on. Specifically the \"lingSpam.csv\" file."
   ]
  },
  {
   "cell_type": "code",
   "execution_count": 179,
   "id": "8b624e96",
   "metadata": {},
   "outputs": [],
   "source": [
    "import numpy as np\n",
    "import pandas as pd\n",
    "import nltk \n",
    "from nltk.corpus import stopwords\n",
    "import string\n",
    "import os\n",
    "from xgboost import XGBClassifier\n",
    "from sklearn.model_selection import ShuffleSplit"
   ]
  },
  {
   "cell_type": "code",
   "execution_count": 180,
   "id": "bdb99019",
   "metadata": {},
   "outputs": [
    {
     "data": {
      "text/html": [
       "<div>\n",
       "<style scoped>\n",
       "    .dataframe tbody tr th:only-of-type {\n",
       "        vertical-align: middle;\n",
       "    }\n",
       "\n",
       "    .dataframe tbody tr th {\n",
       "        vertical-align: top;\n",
       "    }\n",
       "\n",
       "    .dataframe thead th {\n",
       "        text-align: right;\n",
       "    }\n",
       "</style>\n",
       "<table border=\"1\" class=\"dataframe\">\n",
       "  <thead>\n",
       "    <tr style=\"text-align: right;\">\n",
       "      <th></th>\n",
       "      <th>Unnamed: 0</th>\n",
       "      <th>Body</th>\n",
       "      <th>Label</th>\n",
       "    </tr>\n",
       "  </thead>\n",
       "  <tbody>\n",
       "    <tr>\n",
       "      <th>0</th>\n",
       "      <td>0</td>\n",
       "      <td>Subject: great part-time or summer job !\\n \\n ...</td>\n",
       "      <td>1</td>\n",
       "    </tr>\n",
       "    <tr>\n",
       "      <th>1</th>\n",
       "      <td>1</td>\n",
       "      <td>Subject: auto insurance rates too high ?\\n \\n ...</td>\n",
       "      <td>1</td>\n",
       "    </tr>\n",
       "    <tr>\n",
       "      <th>2</th>\n",
       "      <td>2</td>\n",
       "      <td>Subject: do want the best and economical hunti...</td>\n",
       "      <td>1</td>\n",
       "    </tr>\n",
       "    <tr>\n",
       "      <th>3</th>\n",
       "      <td>3</td>\n",
       "      <td>Subject: email 57 million people for $ 99\\n \\n...</td>\n",
       "      <td>1</td>\n",
       "    </tr>\n",
       "    <tr>\n",
       "      <th>4</th>\n",
       "      <td>4</td>\n",
       "      <td>Subject: do n't miss these !\\n \\n attention ! ...</td>\n",
       "      <td>1</td>\n",
       "    </tr>\n",
       "  </tbody>\n",
       "</table>\n",
       "</div>"
      ],
      "text/plain": [
       "   Unnamed: 0                                               Body  Label\n",
       "0           0  Subject: great part-time or summer job !\\n \\n ...      1\n",
       "1           1  Subject: auto insurance rates too high ?\\n \\n ...      1\n",
       "2           2  Subject: do want the best and economical hunti...      1\n",
       "3           3  Subject: email 57 million people for $ 99\\n \\n...      1\n",
       "4           4  Subject: do n't miss these !\\n \\n attention ! ...      1"
      ]
     },
     "execution_count": 180,
     "metadata": {},
     "output_type": "execute_result"
    }
   ],
   "source": [
    "df = pd.read_csv(\"dataset2/lingSpam.csv\")\n",
    "df.head(5)"
   ]
  },
  {
   "cell_type": "code",
   "execution_count": 181,
   "id": "c3d54b6f",
   "metadata": {},
   "outputs": [
    {
     "data": {
      "text/plain": [
       "(2605, 3)"
      ]
     },
     "execution_count": 181,
     "metadata": {},
     "output_type": "execute_result"
    }
   ],
   "source": [
    "df.shape"
   ]
  },
  {
   "cell_type": "code",
   "execution_count": 182,
   "id": "4a2c9b9d",
   "metadata": {},
   "outputs": [
    {
     "data": {
      "text/plain": [
       "Index(['Unnamed: 0', 'Body', 'Label'], dtype='object')"
      ]
     },
     "execution_count": 182,
     "metadata": {},
     "output_type": "execute_result"
    }
   ],
   "source": [
    "df.columns "
   ]
  },
  {
   "cell_type": "code",
   "execution_count": 183,
   "id": "15d8d9c5",
   "metadata": {},
   "outputs": [],
   "source": [
    " df.drop_duplicates(inplace = True)"
   ]
  },
  {
   "cell_type": "code",
   "execution_count": 184,
   "id": "04aeaacc",
   "metadata": {},
   "outputs": [
    {
     "data": {
      "text/plain": [
       "(2605, 3)"
      ]
     },
     "execution_count": 184,
     "metadata": {},
     "output_type": "execute_result"
    }
   ],
   "source": [
    "df.shape"
   ]
  },
  {
   "cell_type": "code",
   "execution_count": 185,
   "id": "68d78545",
   "metadata": {},
   "outputs": [
    {
     "data": {
      "text/plain": [
       "Unnamed: 0    0\n",
       "Body          0\n",
       "Label         0\n",
       "dtype: int64"
      ]
     },
     "execution_count": 185,
     "metadata": {},
     "output_type": "execute_result"
    }
   ],
   "source": [
    "df.isnull().sum()\n"
   ]
  },
  {
   "cell_type": "code",
   "execution_count": 186,
   "id": "0aa49791",
   "metadata": {},
   "outputs": [
    {
     "name": "stderr",
     "output_type": "stream",
     "text": [
      "[nltk_data] Downloading package stopwords to\n",
      "[nltk_data]     C:\\Users\\USER\\AppData\\Roaming\\nltk_data...\n",
      "[nltk_data]   Package stopwords is already up-to-date!\n"
     ]
    },
    {
     "data": {
      "text/plain": [
       "True"
      ]
     },
     "execution_count": 186,
     "metadata": {},
     "output_type": "execute_result"
    }
   ],
   "source": [
    "nltk.download('stopwords')"
   ]
  },
  {
   "cell_type": "code",
   "execution_count": 187,
   "id": "14faf9ef",
   "metadata": {},
   "outputs": [],
   "source": [
    "def process_text(text):\n",
    "    nopunc = [char for char in text if char not in string.punctuation]\n",
    "    nopunc = ''.join(nopunc)\n",
    "    clean_words = [word for word in nopunc.split() if word.lower() not in stopwords.words('english')]\n",
    "    return clean_words"
   ]
  },
  {
   "cell_type": "code",
   "execution_count": 188,
   "id": "a1222708",
   "metadata": {},
   "outputs": [
    {
     "data": {
      "text/plain": [
       "0    [Subject, great, parttime, summer, job, displa...\n",
       "1    [Subject, auto, insurance, rates, high, dear, ...\n",
       "2    [Subject, want, best, economical, hunting, vac...\n",
       "3    [Subject, email, 57, million, people, 99, 57, ...\n",
       "4    [Subject, nt, miss, attention, warning, adults...\n",
       "Name: Body, dtype: object"
      ]
     },
     "execution_count": 188,
     "metadata": {},
     "output_type": "execute_result"
    }
   ],
   "source": [
    "df['Body'].head().apply(process_text)"
   ]
  },
  {
   "cell_type": "code",
   "execution_count": 189,
   "id": "5e1e05cc",
   "metadata": {},
   "outputs": [],
   "source": [
    "from sklearn.feature_extraction.text import CountVectorizer\n",
    "emails_bow = CountVectorizer(analyzer=process_text).fit_transform(df['Body'])"
   ]
  },
  {
   "cell_type": "code",
   "execution_count": 190,
   "id": "aa4006d9",
   "metadata": {},
   "outputs": [],
   "source": [
    "from sklearn.model_selection import train_test_split\n",
    "x_train, x_test, y_train, y_test = train_test_split(emails_bow, df['Label'], test_size = 0.20, random_state =0)"
   ]
  },
  {
   "cell_type": "code",
   "execution_count": 191,
   "id": "4f92d8fd",
   "metadata": {},
   "outputs": [
    {
     "data": {
      "text/plain": [
       "(2605, 63993)"
      ]
     },
     "execution_count": 191,
     "metadata": {},
     "output_type": "execute_result"
    }
   ],
   "source": [
    "emails_bow.shape"
   ]
  },
  {
   "cell_type": "code",
   "execution_count": 194,
   "id": "6d3c21fb",
   "metadata": {},
   "outputs": [
    {
     "name": "stdout",
     "output_type": "stream",
     "text": [
      "[0]\tvalidation_0-aucpr:0.74798\n",
      "[1]\tvalidation_0-aucpr:0.79820\n",
      "[2]\tvalidation_0-aucpr:0.83709\n"
     ]
    },
    {
     "name": "stderr",
     "output_type": "stream",
     "text": [
      "C:\\Users\\USER\\AppData\\Local\\Programs\\Python\\Python39\\lib\\site-packages\\xgboost\\sklearn.py:1224: UserWarning: The use of label encoder in XGBClassifier is deprecated and will be removed in a future release. To remove this warning, do the following: 1) Pass option use_label_encoder=False when constructing XGBClassifier object; and 2) Encode your labels (y) as integers starting with 0, i.e. 0, 1, 2, ..., [num_class - 1].\n",
      "  warnings.warn(label_encoder_deprecation_msg, UserWarning)\n"
     ]
    },
    {
     "name": "stdout",
     "output_type": "stream",
     "text": [
      "[3]\tvalidation_0-aucpr:0.84140\n",
      "[4]\tvalidation_0-aucpr:0.86007\n",
      "[5]\tvalidation_0-aucpr:0.88536\n",
      "[6]\tvalidation_0-aucpr:0.89807\n",
      "[7]\tvalidation_0-aucpr:0.90792\n",
      "[8]\tvalidation_0-aucpr:0.91767\n",
      "[9]\tvalidation_0-aucpr:0.93006\n",
      "[10]\tvalidation_0-aucpr:0.93221\n",
      "[11]\tvalidation_0-aucpr:0.93793\n",
      "[12]\tvalidation_0-aucpr:0.93803\n",
      "[13]\tvalidation_0-aucpr:0.94033\n",
      "[14]\tvalidation_0-aucpr:0.94384\n",
      "[15]\tvalidation_0-aucpr:0.94655\n",
      "[16]\tvalidation_0-aucpr:0.94646\n",
      "[17]\tvalidation_0-aucpr:0.95338\n",
      "[18]\tvalidation_0-aucpr:0.95355\n",
      "[19]\tvalidation_0-aucpr:0.95379\n",
      "[20]\tvalidation_0-aucpr:0.95367\n",
      "[21]\tvalidation_0-aucpr:0.95171\n",
      "[22]\tvalidation_0-aucpr:0.95286\n",
      "[23]\tvalidation_0-aucpr:0.95350\n",
      "[24]\tvalidation_0-aucpr:0.95483\n",
      "[25]\tvalidation_0-aucpr:0.95615\n",
      "[26]\tvalidation_0-aucpr:0.95689\n",
      "[27]\tvalidation_0-aucpr:0.95693\n",
      "[28]\tvalidation_0-aucpr:0.95882\n",
      "[29]\tvalidation_0-aucpr:0.95891\n",
      "[30]\tvalidation_0-aucpr:0.95897\n",
      "[31]\tvalidation_0-aucpr:0.95963\n",
      "[32]\tvalidation_0-aucpr:0.96023\n",
      "[33]\tvalidation_0-aucpr:0.96005\n",
      "[34]\tvalidation_0-aucpr:0.96022\n",
      "[35]\tvalidation_0-aucpr:0.96077\n",
      "[36]\tvalidation_0-aucpr:0.96145\n",
      "[37]\tvalidation_0-aucpr:0.96202\n",
      "[38]\tvalidation_0-aucpr:0.96099\n",
      "[39]\tvalidation_0-aucpr:0.96216\n",
      "[40]\tvalidation_0-aucpr:0.96220\n",
      "[41]\tvalidation_0-aucpr:0.96221\n",
      "[42]\tvalidation_0-aucpr:0.96258\n",
      "[43]\tvalidation_0-aucpr:0.96318\n",
      "[44]\tvalidation_0-aucpr:0.96259\n",
      "[45]\tvalidation_0-aucpr:0.96096\n",
      "[46]\tvalidation_0-aucpr:0.96188\n",
      "[47]\tvalidation_0-aucpr:0.96412\n",
      "[48]\tvalidation_0-aucpr:0.96435\n",
      "[49]\tvalidation_0-aucpr:0.96439\n",
      "[50]\tvalidation_0-aucpr:0.96439\n",
      "[51]\tvalidation_0-aucpr:0.96376\n",
      "[52]\tvalidation_0-aucpr:0.96375\n",
      "[53]\tvalidation_0-aucpr:0.96320\n",
      "[54]\tvalidation_0-aucpr:0.96360\n",
      "[55]\tvalidation_0-aucpr:0.96338\n",
      "[56]\tvalidation_0-aucpr:0.96398\n",
      "[57]\tvalidation_0-aucpr:0.96460\n",
      "[58]\tvalidation_0-aucpr:0.96536\n",
      "[59]\tvalidation_0-aucpr:0.96619\n",
      "[60]\tvalidation_0-aucpr:0.96586\n",
      "[61]\tvalidation_0-aucpr:0.96518\n",
      "[62]\tvalidation_0-aucpr:0.96493\n",
      "[63]\tvalidation_0-aucpr:0.96432\n",
      "[64]\tvalidation_0-aucpr:0.96566\n",
      "[65]\tvalidation_0-aucpr:0.96500\n",
      "[66]\tvalidation_0-aucpr:0.96511\n",
      "[67]\tvalidation_0-aucpr:0.96443\n",
      "[68]\tvalidation_0-aucpr:0.96512\n"
     ]
    },
    {
     "data": {
      "text/plain": [
       "XGBClassifier(base_score=0.5, booster='gbtree', colsample_bylevel=1,\n",
       "              colsample_bynode=1, colsample_bytree=1, enable_categorical=False,\n",
       "              gamma=0, gpu_id=-1, importance_type=None,\n",
       "              interaction_constraints='', learning_rate=0.300000012,\n",
       "              max_delta_step=0, max_depth=6, min_child_weight=1, missing=1,\n",
       "              monotone_constraints='()', n_estimators=100, n_jobs=4,\n",
       "              num_parallel_tree=1, predictor='auto', random_state=42,\n",
       "              reg_alpha=0, reg_lambda=1, scale_pos_weight=1, seed=42,\n",
       "              subsample=1, tree_method='exact', validate_parameters=1,\n",
       "              verbosity=None)"
      ]
     },
     "execution_count": 194,
     "metadata": {},
     "output_type": "execute_result"
    }
   ],
   "source": [
    "spam_xgb = xgb.XGBClassifier(objective='binary:logistic', missing=1,seed=42)\n",
    "spam_xgb.fit(x_train,\n",
    "           y_train,\n",
    "           verbose =True,\n",
    "           early_stopping_rounds=10,\n",
    "           eval_metric='aucpr',\n",
    "           eval_set=[(x_test,y_test)])\n",
    "\n"
   ]
  },
  {
   "cell_type": "code",
   "execution_count": 196,
   "id": "df317f0e",
   "metadata": {},
   "outputs": [
    {
     "name": "stderr",
     "output_type": "stream",
     "text": [
      "C:\\Users\\USER\\AppData\\Local\\Programs\\Python\\Python39\\lib\\site-packages\\sklearn\\utils\\deprecation.py:87: FutureWarning: Function plot_confusion_matrix is deprecated; Function `plot_confusion_matrix` is deprecated in 1.0 and will be removed in 1.2. Use one of the class methods: ConfusionMatrixDisplay.from_predictions or ConfusionMatrixDisplay.from_estimator.\n",
      "  warnings.warn(msg, category=FutureWarning)\n"
     ]
    },
    {
     "data": {
      "text/plain": [
       "<sklearn.metrics._plot.confusion_matrix.ConfusionMatrixDisplay at 0x2378a453c40>"
      ]
     },
     "execution_count": 196,
     "metadata": {},
     "output_type": "execute_result"
    },
    {
     "data": {
      "image/png": "[encoded data removed]",
      "text/plain": [
       "<Figure size 432x288 with 2 Axes>"
      ]
     },
     "metadata": {
      "needs_background": "light"
     },
     "output_type": "display_data"
    }
   ],
   "source": [
    "from sklearn.metrics import plot_confusion_matrix\n",
    "plot_confusion_matrix(spam_xgb,\n",
    "                     x_test,\n",
    "                     y_test,\n",
    "                     values_format='d',\n",
    "                     display_labels=[\"Spam\",\"Ham\"])"
   ]
  },
  {
   "cell_type": "markdown",
   "id": "97e943e1",
   "metadata": {},
   "source": [
    "In the confusion matrix, we see that of the 443 of the emails that were spam, 440 (99.33%) were correctly classifies. And of the 78 emails that were ham, 68 (87.18%) were correctly classified."
   ]
  }
 ],
 "metadata": {
  "kernelspec": {
   "display_name": "Python 3 (ipykernel)",
   "language": "python",
   "name": "python3"
  },
  "language_info": {
   "codemirror_mode": {
    "name": "ipython",
    "version": 3
   },
   "file_extension": ".py",
   "mimetype": "text/x-python",
   "name": "python",
   "nbconvert_exporter": "python",
   "pygments_lexer": "ipython3",
   "version": "3.9.7"
  }
 },
 "nbformat": 4,
 "nbformat_minor": 5
}
